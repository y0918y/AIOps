{
 "cells": [
  {
   "cell_type": "code",
   "execution_count": 1,
   "metadata": {
    "id": "ldvA-e_XzSTG"
   },
   "outputs": [],
   "source": [
    "import re\n",
    "import pandas as pd \n",
    "\n",
    "import requests\n",
    "from bs4 import BeautifulSoup"
   ]
  },
  {
   "cell_type": "code",
   "execution_count": 2,
   "metadata": {
    "colab": {
     "base_uri": "https://localhost:8080/"
    },
    "id": "NieCWpBzzkBM",
    "outputId": "e444be13-bc2f-40ab-f15a-c7b04161d022"
   },
   "outputs": [
    {
     "data": {
      "text/plain": [
       "['https://eiec.kdi.re.kr/policy/materialList.do?topic=&pg=1&pp=20',\n",
       " 'https://eiec.kdi.re.kr/policy/materialList.do?topic=&pg=2&pp=20',\n",
       " 'https://eiec.kdi.re.kr/policy/materialList.do?topic=&pg=3&pp=20',\n",
       " 'https://eiec.kdi.re.kr/policy/materialList.do?topic=&pg=4&pp=20',\n",
       " 'https://eiec.kdi.re.kr/policy/materialList.do?topic=&pg=5&pp=20',\n",
       " 'https://eiec.kdi.re.kr/policy/materialList.do?topic=&pg=6&pp=20',\n",
       " 'https://eiec.kdi.re.kr/policy/materialList.do?topic=&pg=7&pp=20',\n",
       " 'https://eiec.kdi.re.kr/policy/materialList.do?topic=&pg=8&pp=20',\n",
       " 'https://eiec.kdi.re.kr/policy/materialList.do?topic=&pg=9&pp=20',\n",
       " 'https://eiec.kdi.re.kr/policy/materialList.do?topic=&pg=10&pp=20']"
      ]
     },
     "execution_count": 2,
     "metadata": {},
     "output_type": "execute_result"
    }
   ],
   "source": [
    "page = [ i for i in range(1, 11)]\n",
    "\n",
    "list_kdi_news = [ ]\n",
    "for p in page :\n",
    "    url_kdi = 'https://eiec.kdi.re.kr/policy/materialList.do?topic=&pg='+str(p)+'&pp=20'\n",
    "    list_kdi_news.append(url_kdi)\n",
    "\n",
    "list_kdi_news"
   ]
  },
  {
   "cell_type": "code",
   "execution_count": 3,
   "metadata": {
    "colab": {
     "base_uri": "https://localhost:8080/"
    },
    "id": "osaiia8xsOhn",
    "outputId": "42dbba36-54e1-4285-cc55-47e41e60a333"
   },
   "outputs": [
    {
     "name": "stderr",
     "output_type": "stream",
     "text": [
      "C:\\Users\\y0918\\anaconda3\\lib\\site-packages\\urllib3\\connectionpool.py:981: InsecureRequestWarning: Unverified HTTPS request is being made to host 'eiec.kdi.re.kr'. Adding certificate verification is strongly advised. See: https://urllib3.readthedocs.io/en/latest/advanced-usage.html#ssl-warnings\n",
      "  warnings.warn(\n"
     ]
    }
   ],
   "source": [
    "r = requests.get(list_kdi_news[0], verify = False) # SSLError: HTTPSConnectionPool -> verify = False 하니 실행 OK\n",
    "soup = BeautifulSoup(r.text, 'html.parser')"
   ]
  },
  {
   "cell_type": "markdown",
   "metadata": {
    "id": "5ixXU_8jycXR"
   },
   "source": [
    "* BeautifulSoup 의 Select 사용법 -> 태그를 찾아서 -> 해당 태그들을 list에 넣고 뽑아서 나눠서 보자!\n",
    "\n",
    "* source code : 위키북스 - 직장인을 위한 데이터 분석 실무 with 파이썬 (ch6. 어떤 무선 청소기가 좋을까?) 참고"
   ]
  },
  {
   "cell_type": "code",
   "execution_count": 4,
   "metadata": {
    "colab": {
     "base_uri": "https://localhost:8080/"
    },
    "id": "ImOUKFUTsZJt",
    "outputId": "bc29c87e-2002-4b7d-fcbf-015189089270"
   },
   "outputs": [
    {
     "data": {
      "text/plain": [
       "20"
      ]
     },
     "execution_count": 4,
     "metadata": {},
     "output_type": "execute_result"
    }
   ],
   "source": [
    "news_items = soup.select('div.lb_list_com > ul > li')\n",
    "len(news_items)"
   ]
  },
  {
   "cell_type": "code",
   "execution_count": 18,
   "metadata": {
    "colab": {
     "base_uri": "https://localhost:8080/"
    },
    "id": "0uCw6twIsY-A",
    "outputId": "9c2e72fc-ad14-4628-c56b-3784fa3bccd6"
   },
   "outputs": [
    {
     "data": {
      "text/plain": [
       "<li id=\"row_225800\" onclick=\"readCookie('225800')\">\n",
       "<a href=\"./materialView.do?num=225800&amp;topic=&amp;pp=20&amp;datecount=&amp;recommend=&amp;pg=1\">\n",
       "<strong>인천~서울 지하고속도로 등 6개 사업 예타 대상사업 선정 지능형 농기계 실증단지 등 3개 사업 예타 통과</strong>\n",
       "<span><em>기획재정부</em> <em>2022.05.02</em> <em>10p</em></span>\n",
       "</a>\n",
       "<div class=\"lb_fil-wrap\">\n",
       "<button class=\"file_open\" onclick=\"eiecJS.fileOpen(this)\" type=\"button\">파일</button>\n",
       "<div class=\"lb_fil-pop\">\n",
       "<button onclick=\"eiecJS.fileClose(this)\" type=\"button\">닫기</button>\n",
       "<div class=\"fil_scroll\">\n",
       "<ul>\n",
       "<li><a href=\"/policy/callDownload.do?num=225800&amp;filenum=1&amp;dtime=20220502231752\">R2205002.hwpx</a></li>\n",
       "</ul>\n",
       "</div>\n",
       "</div>\n",
       "</div>\n",
       "</li>"
      ]
     },
     "execution_count": 18,
     "metadata": {},
     "output_type": "execute_result"
    }
   ],
   "source": [
    "news_items[0]"
   ]
  },
  {
   "cell_type": "code",
   "execution_count": 19,
   "metadata": {
    "colab": {
     "base_uri": "https://localhost:8080/",
     "height": 35
    },
    "id": "SjVGpfLLsYzX",
    "outputId": "03097ade-6f6d-4b37-c2c3-891a1fe4c15a"
   },
   "outputs": [
    {
     "data": {
      "text/plain": [
       "'인천~서울 지하고속도로 등 6개 사업 예타 대상사업 선정 지능형 농기계 실증단지 등 3개 사업 예타 통과'"
      ]
     },
     "execution_count": 19,
     "metadata": {},
     "output_type": "execute_result"
    }
   ],
   "source": [
    "title = news_items[0].select('strong')[0].text # strong 태그 있는 걸 찾아서 text로 반환해라!\n",
    "\n",
    "title"
   ]
  },
  {
   "cell_type": "code",
   "execution_count": 20,
   "metadata": {
    "colab": {
     "base_uri": "https://localhost:8080/"
    },
    "id": "E35WB1Duw7eU",
    "outputId": "41a695df-3b6e-4deb-d43e-28ea8ff2654b"
   },
   "outputs": [
    {
     "data": {
      "text/plain": [
       "[<em>기획재정부</em>, <em>2022.05.02</em>, <em>10p</em>]"
      ]
     },
     "execution_count": 20,
     "metadata": {},
     "output_type": "execute_result"
    }
   ],
   "source": [
    "news_items[0].select('span > em')"
   ]
  },
  {
   "cell_type": "code",
   "execution_count": 8,
   "metadata": {
    "colab": {
     "base_uri": "https://localhost:8080/",
     "height": 35
    },
    "id": "yOwDl2Txx5JT",
    "outputId": "44ca5f5f-e3ed-49b0-c372-e956214c82b3"
   },
   "outputs": [
    {
     "data": {
      "text/plain": [
       "'기획재정부'"
      ]
     },
     "execution_count": 8,
     "metadata": {},
     "output_type": "execute_result"
    }
   ],
   "source": [
    "dep = news_items[0].select('span > em')[0].text\n",
    "\n",
    "dep"
   ]
  },
  {
   "cell_type": "code",
   "execution_count": 9,
   "metadata": {
    "colab": {
     "base_uri": "https://localhost:8080/",
     "height": 35
    },
    "id": "2VJ_ZNl6yCBG",
    "outputId": "bb189399-c340-4d70-d2fc-b71eee898bb7"
   },
   "outputs": [
    {
     "data": {
      "text/plain": [
       "'2022.05.02'"
      ]
     },
     "execution_count": 9,
     "metadata": {},
     "output_type": "execute_result"
    }
   ],
   "source": [
    "date = news_items[0].select('span > em')[1].text\n",
    "\n",
    "date"
   ]
  },
  {
   "cell_type": "code",
   "execution_count": 10,
   "metadata": {
    "colab": {
     "base_uri": "https://localhost:8080/",
     "height": 35
    },
    "id": "hxt6Bm7IyGt4",
    "outputId": "6c78ab69-2cee-44d0-9de2-2ba7deeaf97f"
   },
   "outputs": [
    {
     "data": {
      "text/plain": [
       "'10p'"
      ]
     },
     "execution_count": 10,
     "metadata": {},
     "output_type": "execute_result"
    }
   ],
   "source": [
    "page = news_items[0].select('span > em')[2].text\n",
    "\n",
    "page"
   ]
  },
  {
   "cell_type": "code",
   "execution_count": 21,
   "metadata": {
    "colab": {
     "base_uri": "https://localhost:8080/"
    },
    "id": "tSwb51dvy7GO",
    "outputId": "b17f4b9b-f845-46de-f6e7-0a06f987f757"
   },
   "outputs": [
    {
     "data": {
      "text/plain": [
       "[<a href=\"./materialView.do?num=225800&amp;topic=&amp;pp=20&amp;datecount=&amp;recommend=&amp;pg=1\">\n",
       " <strong>인천~서울 지하고속도로 등 6개 사업 예타 대상사업 선정 지능형 농기계 실증단지 등 3개 사업 예타 통과</strong>\n",
       " <span><em>기획재정부</em> <em>2022.05.02</em> <em>10p</em></span>\n",
       " </a>,\n",
       " <a href=\"/policy/callDownload.do?num=225800&amp;filenum=1&amp;dtime=20220502231752\">R2205002.hwpx</a>]"
      ]
     },
     "execution_count": 21,
     "metadata": {},
     "output_type": "execute_result"
    }
   ],
   "source": [
    "news_items[0].select('li > a')"
   ]
  },
  {
   "cell_type": "code",
   "execution_count": 22,
   "metadata": {
    "colab": {
     "base_uri": "https://localhost:8080/",
     "height": 35
    },
    "id": "hUL6Vm6WyQqI",
    "outputId": "2b67dd0d-8e8e-4041-b339-abc98788573a"
   },
   "outputs": [
    {
     "data": {
      "text/plain": [
       "'R2205002.hwpx'"
      ]
     },
     "execution_count": 22,
     "metadata": {},
     "output_type": "execute_result"
    }
   ],
   "source": [
    "file_name = news_items[0].select('li > a')[1].text\n",
    "file_name"
   ]
  },
  {
   "cell_type": "code",
   "execution_count": 23,
   "metadata": {
    "colab": {
     "base_uri": "https://localhost:8080/",
     "height": 35
    },
    "id": "0YXhogCOFDGL",
    "outputId": "ecd910b7-2779-41fc-e9b8-55b463bcfdb3"
   },
   "outputs": [
    {
     "data": {
      "text/plain": [
       "'225800'"
      ]
     },
     "execution_count": 23,
     "metadata": {},
     "output_type": "execute_result"
    }
   ],
   "source": [
    "text = str(  news_items[0] )\n",
    "\n",
    "p = re.search( 'li id=.*', text )\n",
    "news_num = p.group().split('=')[1].split('\"')[1].split('_')[1]\n",
    "\n",
    "news_num"
   ]
  },
  {
   "cell_type": "code",
   "execution_count": 24,
   "metadata": {
    "colab": {
     "base_uri": "https://localhost:8080/",
     "height": 35
    },
    "id": "-LB7ez9qErME",
    "outputId": "4f1bcc20-abf7-4e59-c154-3409402e6e98"
   },
   "outputs": [
    {
     "data": {
      "text/plain": [
       "'https://eiec.kdi.re.kr/policy/callDownload.do?num=225800&filenum=1'"
      ]
     },
     "execution_count": 24,
     "metadata": {},
     "output_type": "execute_result"
    }
   ],
   "source": [
    "url_tmpl = 'https://eiec.kdi.re.kr/policy/callDownload.do?num={news_num}&filenum=1'\n",
    "\n",
    "url_tmpl.format(news_num = news_num)"
   ]
  },
  {
   "cell_type": "markdown",
   "metadata": {
    "id": "wsrsABv02-fz"
   },
   "source": [
    "# 한 페이지를 작업해볼까!"
   ]
  },
  {
   "cell_type": "code",
   "execution_count": 25,
   "metadata": {
    "colab": {
     "base_uri": "https://localhost:8080/",
     "height": 206
    },
    "id": "zqIxi1As3Ni4",
    "outputId": "f64eef77-558b-4861-cd23-1946544f8042"
   },
   "outputs": [
    {
     "data": {
      "text/html": [
       "<div>\n",
       "<style scoped>\n",
       "    .dataframe tbody tr th:only-of-type {\n",
       "        vertical-align: middle;\n",
       "    }\n",
       "\n",
       "    .dataframe tbody tr th {\n",
       "        vertical-align: top;\n",
       "    }\n",
       "\n",
       "    .dataframe thead th {\n",
       "        text-align: right;\n",
       "    }\n",
       "</style>\n",
       "<table border=\"1\" class=\"dataframe\">\n",
       "  <thead>\n",
       "    <tr style=\"text-align: right;\">\n",
       "      <th></th>\n",
       "      <th>title</th>\n",
       "      <th>dep</th>\n",
       "      <th>date</th>\n",
       "      <th>page</th>\n",
       "      <th>file_name</th>\n",
       "      <th>url</th>\n",
       "    </tr>\n",
       "  </thead>\n",
       "  <tbody>\n",
       "    <tr>\n",
       "      <th>0</th>\n",
       "      <td>인천~서울 지하고속도로 등 6개 사업 예타 대상사업 선정 지능형 농기계 실증단지 등...</td>\n",
       "      <td>기획재정부</td>\n",
       "      <td>2022.05.02</td>\n",
       "      <td>10p</td>\n",
       "      <td>R2205002.hwpx</td>\n",
       "      <td>https://eiec.kdi.re.kr/policy/callDownload.do?...</td>\n",
       "    </tr>\n",
       "    <tr>\n",
       "      <th>1</th>\n",
       "      <td>’21년 귀속 양도소득세 확정신고, 5.31.까지 신고하세요</td>\n",
       "      <td>국세청</td>\n",
       "      <td>2022.05.02</td>\n",
       "      <td>39p</td>\n",
       "      <td>R2205006.hwpx</td>\n",
       "      <td>https://eiec.kdi.re.kr/policy/callDownload.do?...</td>\n",
       "    </tr>\n",
       "    <tr>\n",
       "      <th>2</th>\n",
       "      <td>2022년 3월 온라인쇼핑동향</td>\n",
       "      <td>통계청</td>\n",
       "      <td>2022.05.02</td>\n",
       "      <td>63p</td>\n",
       "      <td>D2205001.hwpx</td>\n",
       "      <td>https://eiec.kdi.re.kr/policy/callDownload.do?...</td>\n",
       "    </tr>\n",
       "    <tr>\n",
       "      <th>3</th>\n",
       "      <td>2022년4월 수출입 동향</td>\n",
       "      <td>산업통상자원부</td>\n",
       "      <td>2022.05.02</td>\n",
       "      <td>36p</td>\n",
       "      <td>R2205012.hwp</td>\n",
       "      <td>https://eiec.kdi.re.kr/policy/callDownload.do?...</td>\n",
       "    </tr>\n",
       "    <tr>\n",
       "      <th>4</th>\n",
       "      <td>안전한 지역축제 개최를 통해 일상회복 앞당긴다</td>\n",
       "      <td>행정안전부</td>\n",
       "      <td>2022.05.02</td>\n",
       "      <td>2p</td>\n",
       "      <td>R2205053.hwpx</td>\n",
       "      <td>https://eiec.kdi.re.kr/policy/callDownload.do?...</td>\n",
       "    </tr>\n",
       "  </tbody>\n",
       "</table>\n",
       "</div>"
      ],
      "text/plain": [
       "                                               title      dep        date  \\\n",
       "0  인천~서울 지하고속도로 등 6개 사업 예타 대상사업 선정 지능형 농기계 실증단지 등...    기획재정부  2022.05.02   \n",
       "1                  ’21년 귀속 양도소득세 확정신고, 5.31.까지 신고하세요      국세청  2022.05.02   \n",
       "2                                   2022년 3월 온라인쇼핑동향      통계청  2022.05.02   \n",
       "3                                     2022년4월 수출입 동향  산업통상자원부  2022.05.02   \n",
       "4                          안전한 지역축제 개최를 통해 일상회복 앞당긴다    행정안전부  2022.05.02   \n",
       "\n",
       "  page      file_name                                                url  \n",
       "0  10p  R2205002.hwpx  https://eiec.kdi.re.kr/policy/callDownload.do?...  \n",
       "1  39p  R2205006.hwpx  https://eiec.kdi.re.kr/policy/callDownload.do?...  \n",
       "2  63p  D2205001.hwpx  https://eiec.kdi.re.kr/policy/callDownload.do?...  \n",
       "3  36p   R2205012.hwp  https://eiec.kdi.re.kr/policy/callDownload.do?...  \n",
       "4   2p  R2205053.hwpx  https://eiec.kdi.re.kr/policy/callDownload.do?...  "
      ]
     },
     "execution_count": 25,
     "metadata": {},
     "output_type": "execute_result"
    }
   ],
   "source": [
    "page_num = 1\n",
    "\n",
    "titles = [ ]\n",
    "deps = [ ]\n",
    "dates = [ ]\n",
    "pages = [ ]\n",
    "file_names = [ ]\n",
    "urls = [ ]\n",
    "\n",
    "for n in range(20) :\n",
    "\n",
    "    titles.append( news_items[n].select('strong')[0].text )\n",
    "    deps.append( news_items[n].select('span > em')[0].text )\n",
    "    dates.append( news_items[n].select('span > em')[1].text )\n",
    "    pages.append( news_items[n].select('span > em')[2].text )\n",
    "    file_names.append( news_items[n].select('li > a')[1].text )\n",
    "\n",
    "    text = str( news_items[n] )\n",
    "    p = re.search( 'li id=.*', text )\n",
    "    news_num = p.group().split('=')[1].split('\"')[1].split('_')[1]\n",
    "    \n",
    "    urls.append( url_tmpl.format( news_num = news_num, page_num = page_num))\n",
    "\n",
    "df = pd.DataFrame( data  = { 'title' : titles , \n",
    "                            'dep' : deps, \n",
    "                            'date' : dates, \n",
    "                            'page' : pages, \n",
    "                            'file_name' : file_names, \n",
    "                            'url' : urls } ) \n",
    "\n",
    "df.head()"
   ]
  },
  {
   "cell_type": "markdown",
   "metadata": {
    "id": "rvLRNPumjhc8"
   },
   "source": [
    "# 한방에 해보려는 데 자꾸 마지막 페이지만 나와! 왜지???\n",
    "\n",
    "-> 조건문에서 계속 list들을 reset해서 빈 리스트 만들고 다시 채우니 그렇지!"
   ]
  },
  {
   "cell_type": "code",
   "execution_count": 26,
   "metadata": {
    "colab": {
     "base_uri": "https://localhost:8080/"
    },
    "id": "s4bTlKRX9JYO",
    "outputId": "00922468-0f51-48a4-a90b-7a11f394f8af"
   },
   "outputs": [
    {
     "name": "stderr",
     "output_type": "stream",
     "text": [
      "C:\\Users\\y0918\\anaconda3\\lib\\site-packages\\urllib3\\connectionpool.py:981: InsecureRequestWarning: Unverified HTTPS request is being made to host 'eiec.kdi.re.kr'. Adding certificate verification is strongly advised. See: https://urllib3.readthedocs.io/en/latest/advanced-usage.html#ssl-warnings\n",
      "  warnings.warn(\n",
      "C:\\Users\\y0918\\anaconda3\\lib\\site-packages\\urllib3\\connectionpool.py:981: InsecureRequestWarning: Unverified HTTPS request is being made to host 'eiec.kdi.re.kr'. Adding certificate verification is strongly advised. See: https://urllib3.readthedocs.io/en/latest/advanced-usage.html#ssl-warnings\n",
      "  warnings.warn(\n",
      "C:\\Users\\y0918\\anaconda3\\lib\\site-packages\\urllib3\\connectionpool.py:981: InsecureRequestWarning: Unverified HTTPS request is being made to host 'eiec.kdi.re.kr'. Adding certificate verification is strongly advised. See: https://urllib3.readthedocs.io/en/latest/advanced-usage.html#ssl-warnings\n",
      "  warnings.warn(\n",
      "C:\\Users\\y0918\\anaconda3\\lib\\site-packages\\urllib3\\connectionpool.py:981: InsecureRequestWarning: Unverified HTTPS request is being made to host 'eiec.kdi.re.kr'. Adding certificate verification is strongly advised. See: https://urllib3.readthedocs.io/en/latest/advanced-usage.html#ssl-warnings\n",
      "  warnings.warn(\n",
      "C:\\Users\\y0918\\anaconda3\\lib\\site-packages\\urllib3\\connectionpool.py:981: InsecureRequestWarning: Unverified HTTPS request is being made to host 'eiec.kdi.re.kr'. Adding certificate verification is strongly advised. See: https://urllib3.readthedocs.io/en/latest/advanced-usage.html#ssl-warnings\n",
      "  warnings.warn(\n",
      "C:\\Users\\y0918\\anaconda3\\lib\\site-packages\\urllib3\\connectionpool.py:981: InsecureRequestWarning: Unverified HTTPS request is being made to host 'eiec.kdi.re.kr'. Adding certificate verification is strongly advised. See: https://urllib3.readthedocs.io/en/latest/advanced-usage.html#ssl-warnings\n",
      "  warnings.warn(\n",
      "C:\\Users\\y0918\\anaconda3\\lib\\site-packages\\urllib3\\connectionpool.py:981: InsecureRequestWarning: Unverified HTTPS request is being made to host 'eiec.kdi.re.kr'. Adding certificate verification is strongly advised. See: https://urllib3.readthedocs.io/en/latest/advanced-usage.html#ssl-warnings\n",
      "  warnings.warn(\n",
      "C:\\Users\\y0918\\anaconda3\\lib\\site-packages\\urllib3\\connectionpool.py:981: InsecureRequestWarning: Unverified HTTPS request is being made to host 'eiec.kdi.re.kr'. Adding certificate verification is strongly advised. See: https://urllib3.readthedocs.io/en/latest/advanced-usage.html#ssl-warnings\n",
      "  warnings.warn(\n",
      "C:\\Users\\y0918\\anaconda3\\lib\\site-packages\\urllib3\\connectionpool.py:981: InsecureRequestWarning: Unverified HTTPS request is being made to host 'eiec.kdi.re.kr'. Adding certificate verification is strongly advised. See: https://urllib3.readthedocs.io/en/latest/advanced-usage.html#ssl-warnings\n",
      "  warnings.warn(\n",
      "C:\\Users\\y0918\\anaconda3\\lib\\site-packages\\urllib3\\connectionpool.py:981: InsecureRequestWarning: Unverified HTTPS request is being made to host 'eiec.kdi.re.kr'. Adding certificate verification is strongly advised. See: https://urllib3.readthedocs.io/en/latest/advanced-usage.html#ssl-warnings\n",
      "  warnings.warn(\n"
     ]
    }
   ],
   "source": [
    "page = [ i for i in range(1, 11)]\n",
    "\n",
    "for p in page :\n",
    "\n",
    "    url_kdi = 'https://eiec.kdi.re.kr/policy/materialList.do?topic=&pg='+str(p)+'&pp=20'\n",
    "\n",
    "    r = requests.get(url_kdi, verify = False)\n",
    "    soup = BeautifulSoup(r.text, 'html.parser')\n",
    "\n",
    "    news_items = soup.select('div.lb_list_com > ul > li')\n",
    "\n",
    "    page_num = p\n",
    "\n",
    "    url_tmpl = 'https://eiec.kdi.re.kr/policy/callDownload.do?num={news_num}&filenum=1'\n",
    "\n",
    "    titles = [ ]\n",
    "    deps = [ ]\n",
    "    dates = [ ]\n",
    "    pages = [ ]\n",
    "    file_names = [ ]\n",
    "    urls = [ ]\n",
    "\n",
    "    for n in range(20) :\n",
    "\n",
    "        titles.append( news_items[n].select('strong')[0].text )\n",
    "        deps.append( news_items[n].select('span > em')[0].text )\n",
    "        dates.append( news_items[n].select('span > em')[1].text )\n",
    "        pages.append( news_items[n].select('span > em')[2].text )\n",
    "        file_names.append( news_items[n].select('li > a')[1].text )\n",
    "\n",
    "        text = str( news_items[n] )\n",
    "        t = re.search( 'li id=.*', text )\n",
    "        news_num = t.group().split('=')[1].split('\"')[1].split('_')[1]\n",
    "\n",
    "        urls.append( url_tmpl.format( news_num = news_num, page_num = page_num))\n",
    "\n",
    "        df_n = pd.DataFrame( data  = { 'title' : titles , \n",
    "                                      'dep' : deps, \n",
    "                                      'date' : dates, \n",
    "                                      'page' : pages, \n",
    "                                      'file_name' : file_names, \n",
    "                                      'url' : urls } ) "
   ]
  },
  {
   "cell_type": "code",
   "execution_count": 27,
   "metadata": {
    "colab": {
     "base_uri": "https://localhost:8080/",
     "height": 206
    },
    "id": "rW6iFwm-e11L",
    "outputId": "8eb111d3-e02f-43f7-897e-2f041dd9fe03"
   },
   "outputs": [
    {
     "data": {
      "text/html": [
       "<div>\n",
       "<style scoped>\n",
       "    .dataframe tbody tr th:only-of-type {\n",
       "        vertical-align: middle;\n",
       "    }\n",
       "\n",
       "    .dataframe tbody tr th {\n",
       "        vertical-align: top;\n",
       "    }\n",
       "\n",
       "    .dataframe thead th {\n",
       "        text-align: right;\n",
       "    }\n",
       "</style>\n",
       "<table border=\"1\" class=\"dataframe\">\n",
       "  <thead>\n",
       "    <tr style=\"text-align: right;\">\n",
       "      <th></th>\n",
       "      <th>title</th>\n",
       "      <th>dep</th>\n",
       "      <th>date</th>\n",
       "      <th>page</th>\n",
       "      <th>file_name</th>\n",
       "      <th>url</th>\n",
       "    </tr>\n",
       "  </thead>\n",
       "  <tbody>\n",
       "    <tr>\n",
       "      <th>0</th>\n",
       "      <td>공공부문의 장애인 표준사업장 생산품 구매 지속 증가</td>\n",
       "      <td>고용노동부</td>\n",
       "      <td>2022.04.27</td>\n",
       "      <td>6p</td>\n",
       "      <td>R2204905.hwpx</td>\n",
       "      <td>https://eiec.kdi.re.kr/policy/callDownload.do?...</td>\n",
       "    </tr>\n",
       "    <tr>\n",
       "      <th>1</th>\n",
       "      <td>2022년 3월 국내인구이동통계</td>\n",
       "      <td>통계청</td>\n",
       "      <td>2022.04.27</td>\n",
       "      <td>14p</td>\n",
       "      <td>D2204009.pdf</td>\n",
       "      <td>https://eiec.kdi.re.kr/policy/callDownload.do?...</td>\n",
       "    </tr>\n",
       "    <tr>\n",
       "      <th>2</th>\n",
       "      <td>2022년도 공시대상기업집단 76개 지정</td>\n",
       "      <td>공정거래위원회</td>\n",
       "      <td>2022.04.27</td>\n",
       "      <td>17p</td>\n",
       "      <td>R2204919.hwpx</td>\n",
       "      <td>https://eiec.kdi.re.kr/policy/callDownload.do?...</td>\n",
       "    </tr>\n",
       "    <tr>\n",
       "      <th>3</th>\n",
       "      <td>「교육관련기관의 정보공개에 관한 특례법 시행령」 일부개정령안 국무회의 통과</td>\n",
       "      <td>교육부</td>\n",
       "      <td>2022.04.27</td>\n",
       "      <td>6p</td>\n",
       "      <td>R2204913.hwpx</td>\n",
       "      <td>https://eiec.kdi.re.kr/policy/callDownload.do?...</td>\n",
       "    </tr>\n",
       "    <tr>\n",
       "      <th>4</th>\n",
       "      <td>벤츠·랜드로버·기아·벤틀리·피라인 시정조치(리콜)</td>\n",
       "      <td>국토교통부</td>\n",
       "      <td>2022.04.27</td>\n",
       "      <td>9p</td>\n",
       "      <td>R2204898.hwp</td>\n",
       "      <td>https://eiec.kdi.re.kr/policy/callDownload.do?...</td>\n",
       "    </tr>\n",
       "  </tbody>\n",
       "</table>\n",
       "</div>"
      ],
      "text/plain": [
       "                                       title      dep        date page  \\\n",
       "0               공공부문의 장애인 표준사업장 생산품 구매 지속 증가    고용노동부  2022.04.27   6p   \n",
       "1                          2022년 3월 국내인구이동통계      통계청  2022.04.27  14p   \n",
       "2                     2022년도 공시대상기업집단 76개 지정  공정거래위원회  2022.04.27  17p   \n",
       "3  「교육관련기관의 정보공개에 관한 특례법 시행령」 일부개정령안 국무회의 통과      교육부  2022.04.27   6p   \n",
       "4                벤츠·랜드로버·기아·벤틀리·피라인 시정조치(리콜)    국토교통부  2022.04.27   9p   \n",
       "\n",
       "       file_name                                                url  \n",
       "0  R2204905.hwpx  https://eiec.kdi.re.kr/policy/callDownload.do?...  \n",
       "1   D2204009.pdf  https://eiec.kdi.re.kr/policy/callDownload.do?...  \n",
       "2  R2204919.hwpx  https://eiec.kdi.re.kr/policy/callDownload.do?...  \n",
       "3  R2204913.hwpx  https://eiec.kdi.re.kr/policy/callDownload.do?...  \n",
       "4   R2204898.hwp  https://eiec.kdi.re.kr/policy/callDownload.do?...  "
      ]
     },
     "execution_count": 27,
     "metadata": {},
     "output_type": "execute_result"
    }
   ],
   "source": [
    " df_n.head()"
   ]
  },
  {
   "cell_type": "code",
   "execution_count": 28,
   "metadata": {
    "colab": {
     "base_uri": "https://localhost:8080/"
    },
    "id": "uI5nQ3GhCsxS",
    "outputId": "3ab154a9-beaf-4aef-f6db-508f0f8834a7"
   },
   "outputs": [
    {
     "data": {
      "text/plain": [
       "(20, 6)"
      ]
     },
     "execution_count": 28,
     "metadata": {},
     "output_type": "execute_result"
    }
   ],
   "source": [
    "df_n.shape"
   ]
  },
  {
   "cell_type": "markdown",
   "metadata": {
    "id": "3TyD7JiljS9R"
   },
   "source": [
    "# 이제 한방에 해볼까?"
   ]
  },
  {
   "cell_type": "code",
   "execution_count": 29,
   "metadata": {
    "id": "D7SYHNp9EUJt"
   },
   "outputs": [],
   "source": [
    "import warnings\n",
    "warnings.filterwarnings('ignore')"
   ]
  },
  {
   "cell_type": "code",
   "execution_count": 30,
   "metadata": {
    "id": "MCkJwkwOjStq"
   },
   "outputs": [],
   "source": [
    "import re\n",
    "import pandas as pd \n",
    "from tqdm import tqdm\n",
    "\n",
    "import requests\n",
    "from bs4 import BeautifulSoup"
   ]
  },
  {
   "cell_type": "code",
   "execution_count": 31,
   "metadata": {
    "colab": {
     "base_uri": "https://localhost:8080/",
     "height": 225
    },
    "id": "ROWKihNlY2cf",
    "outputId": "1e0d0961-203c-467c-a7c5-35bf75d9440f"
   },
   "outputs": [
    {
     "name": "stderr",
     "output_type": "stream",
     "text": [
      "100%|██████████████████████████████████████████████████████████████████████████████████| 30/30 [00:30<00:00,  1.00s/it]\n"
     ]
    },
    {
     "data": {
      "text/html": [
       "<div>\n",
       "<style scoped>\n",
       "    .dataframe tbody tr th:only-of-type {\n",
       "        vertical-align: middle;\n",
       "    }\n",
       "\n",
       "    .dataframe tbody tr th {\n",
       "        vertical-align: top;\n",
       "    }\n",
       "\n",
       "    .dataframe thead th {\n",
       "        text-align: right;\n",
       "    }\n",
       "</style>\n",
       "<table border=\"1\" class=\"dataframe\">\n",
       "  <thead>\n",
       "    <tr style=\"text-align: right;\">\n",
       "      <th></th>\n",
       "      <th>title</th>\n",
       "      <th>dep</th>\n",
       "      <th>date</th>\n",
       "      <th>page</th>\n",
       "      <th>file_name</th>\n",
       "      <th>url</th>\n",
       "    </tr>\n",
       "  </thead>\n",
       "  <tbody>\n",
       "    <tr>\n",
       "      <th>0</th>\n",
       "      <td>인천~서울 지하고속도로 등 6개 사업 예타 대상사업 선정 지능형 농기계 실증단지 등...</td>\n",
       "      <td>기획재정부</td>\n",
       "      <td>2022.05.02</td>\n",
       "      <td>10p</td>\n",
       "      <td>\\n인천~서울 지하고속도로 등 6개 사업 예타 대상사업 선정 지능형 농기계 실증단지...</td>\n",
       "      <td>http://eiec.kdi.re.kr/policy/callDownload.do?n...</td>\n",
       "    </tr>\n",
       "    <tr>\n",
       "      <th>1</th>\n",
       "      <td>’21년 귀속 양도소득세 확정신고, 5.31.까지 신고하세요</td>\n",
       "      <td>국세청</td>\n",
       "      <td>2022.05.02</td>\n",
       "      <td>39p</td>\n",
       "      <td>\\n’21년 귀속 양도소득세 확정신고, 5.31.까지 신고하세요\\n국세청 2022....</td>\n",
       "      <td>http://eiec.kdi.re.kr/policy/callDownload.do?n...</td>\n",
       "    </tr>\n",
       "    <tr>\n",
       "      <th>2</th>\n",
       "      <td>2022년 3월 온라인쇼핑동향</td>\n",
       "      <td>통계청</td>\n",
       "      <td>2022.05.02</td>\n",
       "      <td>63p</td>\n",
       "      <td>\\n2022년 3월 온라인쇼핑동향\\n통계청 2022.05.02 63p\\n</td>\n",
       "      <td>http://eiec.kdi.re.kr/policy/callDownload.do?n...</td>\n",
       "    </tr>\n",
       "    <tr>\n",
       "      <th>3</th>\n",
       "      <td>2022년4월 수출입 동향</td>\n",
       "      <td>산업통상자원부</td>\n",
       "      <td>2022.05.02</td>\n",
       "      <td>36p</td>\n",
       "      <td>\\n2022년4월 수출입 동향\\n산업통상자원부 2022.05.02 36p\\n</td>\n",
       "      <td>http://eiec.kdi.re.kr/policy/callDownload.do?n...</td>\n",
       "    </tr>\n",
       "    <tr>\n",
       "      <th>4</th>\n",
       "      <td>안전한 지역축제 개최를 통해 일상회복 앞당긴다</td>\n",
       "      <td>행정안전부</td>\n",
       "      <td>2022.05.02</td>\n",
       "      <td>2p</td>\n",
       "      <td>\\n안전한 지역축제 개최를 통해 일상회복 앞당긴다\\n행정안전부 2022.05.02 ...</td>\n",
       "      <td>http://eiec.kdi.re.kr/policy/callDownload.do?n...</td>\n",
       "    </tr>\n",
       "  </tbody>\n",
       "</table>\n",
       "</div>"
      ],
      "text/plain": [
       "                                               title      dep        date  \\\n",
       "0  인천~서울 지하고속도로 등 6개 사업 예타 대상사업 선정 지능형 농기계 실증단지 등...    기획재정부  2022.05.02   \n",
       "1                  ’21년 귀속 양도소득세 확정신고, 5.31.까지 신고하세요      국세청  2022.05.02   \n",
       "2                                   2022년 3월 온라인쇼핑동향      통계청  2022.05.02   \n",
       "3                                     2022년4월 수출입 동향  산업통상자원부  2022.05.02   \n",
       "4                          안전한 지역축제 개최를 통해 일상회복 앞당긴다    행정안전부  2022.05.02   \n",
       "\n",
       "  page                                          file_name  \\\n",
       "0  10p  \\n인천~서울 지하고속도로 등 6개 사업 예타 대상사업 선정 지능형 농기계 실증단지...   \n",
       "1  39p  \\n’21년 귀속 양도소득세 확정신고, 5.31.까지 신고하세요\\n국세청 2022....   \n",
       "2  63p           \\n2022년 3월 온라인쇼핑동향\\n통계청 2022.05.02 63p\\n   \n",
       "3  36p         \\n2022년4월 수출입 동향\\n산업통상자원부 2022.05.02 36p\\n   \n",
       "4   2p  \\n안전한 지역축제 개최를 통해 일상회복 앞당긴다\\n행정안전부 2022.05.02 ...   \n",
       "\n",
       "                                                 url  \n",
       "0  http://eiec.kdi.re.kr/policy/callDownload.do?n...  \n",
       "1  http://eiec.kdi.re.kr/policy/callDownload.do?n...  \n",
       "2  http://eiec.kdi.re.kr/policy/callDownload.do?n...  \n",
       "3  http://eiec.kdi.re.kr/policy/callDownload.do?n...  \n",
       "4  http://eiec.kdi.re.kr/policy/callDownload.do?n...  "
      ]
     },
     "execution_count": 31,
     "metadata": {},
     "output_type": "execute_result"
    }
   ],
   "source": [
    "page = [ i for i in range(1, 31) ] # 30페이지까지 도전해보자!\n",
    "\n",
    "for p in tqdm(page) :\n",
    "    url_kdi = 'https://eiec.kdi.re.kr/policy/materialList.do?topic=&pg='+str(p)+'&pp=20'\n",
    "\n",
    "    r = requests.get(url_kdi, verify = False)\n",
    "    soup = BeautifulSoup(r.text, 'html.parser')\n",
    "\n",
    "    news_items = soup.select('div.lb_list_com > ul > li')\n",
    "\n",
    "    page_num = p\n",
    "    url_tmpl = 'http://eiec.kdi.re.kr/policy/callDownload.do?num={news_num}&filenum=1'\n",
    "\n",
    "    if p == 1 : \n",
    "        titles = [ ]\n",
    "        deps = [ ]\n",
    "        dates = [ ]\n",
    "        pages = [ ]\n",
    "        file_names = [ ]\n",
    "        urls = [ ]\n",
    "\n",
    "    for n in range(20) :\n",
    "        titles.append( news_items[n].select('strong')[0].text )\n",
    "        deps.append( news_items[n].select('span > em')[0].text )\n",
    "        dates.append( news_items[n].select('span > em')[1].text )\n",
    "        pages.append( news_items[n].select('span > em')[2].text )\n",
    "        file_names.append( news_items[n].select('li > a')[0].text )\n",
    "\n",
    "        text = str(  news_items[n] )\n",
    "        t = re.search( 'li id=.*', text )\n",
    "        news_num = t.group().split('=')[1].split('\"')[1].split('_')[1]\n",
    "\n",
    "        urls.append( url_tmpl.format( news_num = news_num, page_num = page_num))\n",
    "\n",
    "    else :\n",
    "        for n in range(20) :\n",
    "            titles.append( news_items[n].select('strong')[0].text )\n",
    "            deps.append( news_items[n].select('span > em')[0].text )\n",
    "            dates.append( news_items[n].select('span > em')[1].text )\n",
    "            pages.append( news_items[n].select('span > em')[2].text )\n",
    "            file_names.append( news_items[n].select('li > a')[0].text )\n",
    "\n",
    "            text = str(  news_items[n] )\n",
    "            t = re.search( 'li id=.*', text )\n",
    "            news_num = t.group().split('=')[1].split('\"')[1].split('_')[1]\n",
    "\n",
    "            urls.append( url_tmpl.format( news_num = news_num, page_num = page_num))\n",
    "\n",
    "df = pd.DataFrame( data  = { 'title' : titles , \n",
    "                            'dep' : deps, \n",
    "                            'date' : dates, \n",
    "                            'page' : pages, \n",
    "                            'file_name' : file_names, \n",
    "                            'url' : urls } ) \n",
    "\n",
    "\n",
    "df.head()"
   ]
  },
  {
   "cell_type": "code",
   "execution_count": 32,
   "metadata": {},
   "outputs": [
    {
     "data": {
      "text/plain": [
       "(1200, 6)"
      ]
     },
     "execution_count": 32,
     "metadata": {},
     "output_type": "execute_result"
    }
   ],
   "source": [
    "df.shape"
   ]
  },
  {
   "cell_type": "code",
   "execution_count": 31,
   "metadata": {
    "id": "5wB7QGNzgZ_Y"
   },
   "outputs": [],
   "source": [
    "df.to_excel('df_kdi_news.xlsx')"
   ]
  },
  {
   "cell_type": "markdown",
   "metadata": {
    "id": "In4uwxJKmQf1"
   },
   "source": [
    "# 다운로드 작업은 로컬 PC에서!"
   ]
  }
 ],
 "metadata": {
  "colab": {
   "collapsed_sections": [],
   "name": "(220502)KDI경제정책정보 크롤링.ipynb",
   "provenance": []
  },
  "kernelspec": {
   "display_name": "Python 3",
   "language": "python",
   "name": "python3"
  },
  "language_info": {
   "codemirror_mode": {
    "name": "ipython",
    "version": 3
   },
   "file_extension": ".py",
   "mimetype": "text/x-python",
   "name": "python",
   "nbconvert_exporter": "python",
   "pygments_lexer": "ipython3",
   "version": "3.8.5"
  }
 },
 "nbformat": 4,
 "nbformat_minor": 1
}
