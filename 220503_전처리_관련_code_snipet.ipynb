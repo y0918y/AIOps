{
 "cells": [
  {
   "cell_type": "markdown",
   "metadata": {
    "id": "jjT135ZL7iJP"
   },
   "source": [
    "# 1. Reversing a string using slicing"
   ]
  },
  {
   "cell_type": "code",
   "execution_count": 1,
   "metadata": {
    "colab": {
     "base_uri": "https://localhost:8080/"
    },
    "id": "IFAxII46aMoF",
    "outputId": "7ec645b2-d042-4496-e887-0e0139491492"
   },
   "outputs": [
    {
     "name": "stdout",
     "output_type": "stream",
     "text": [
      "EDCBA\n"
     ]
    }
   ],
   "source": [
    "my_string = \"ABCDE\"\n",
    "reversed_string = my_string[ : : -1] # 처음부터 끝까지 -1 -> 거꾸로\n",
    "\n",
    "print(reversed_string)\n",
    "\n",
    "# Output\n",
    "# EDCBA"
   ]
  },
  {
   "cell_type": "markdown",
   "metadata": {
    "id": "HmvV-cQVaQGt"
   },
   "source": [
    "# 2. set() : Finding unique elements in a string \n",
    "\n"
   ]
  },
  {
   "cell_type": "code",
   "execution_count": 2,
   "metadata": {
    "colab": {
     "base_uri": "https://localhost:8080/"
    },
    "id": "5qik7jQqb3Pm",
    "outputId": "625c3364-2f78-44e5-fbad-2920777f0b13"
   },
   "outputs": [
    {
     "name": "stdout",
     "output_type": "stream",
     "text": [
      "{'d', 'v', 'a', 'e', 'c'} dvaec\n"
     ]
    }
   ],
   "source": [
    "my_string = 'aaaavvccdddeee'\n",
    "\n",
    "# converting the string to a set\n",
    "temp_set = set(my_string)\n",
    "\n",
    "# sticthing set into a string using join\n",
    "new_string = ''.join(temp_set)\n",
    "\n",
    "print(temp_set, new_string)"
   ]
  },
  {
   "cell_type": "markdown",
   "metadata": {
    "id": "xcKeieQXJ1Wl"
   },
   "source": [
    "# 3. List Comprehension"
   ]
  },
  {
   "cell_type": "code",
   "execution_count": 3,
   "metadata": {
    "colab": {
     "base_uri": "https://localhost:8080/"
    },
    "id": "GvuNnM-GcfKT",
    "outputId": "8c38797e-b3dd-421c-9ad3-ee9dab18ff2d"
   },
   "outputs": [
    {
     "name": "stdout",
     "output_type": "stream",
     "text": [
      "[2, 4, 6, 8]\n"
     ]
    }
   ],
   "source": [
    "# multiplying each element in a list by 2\n",
    "\n",
    "original_list = [ 1, 2, 3, 4 ]\n",
    "\n",
    "new_list = [ 2*x for x in original_list ]\n",
    "\n",
    "print(new_list)"
   ]
  },
  {
   "cell_type": "markdown",
   "metadata": {
    "id": "ORaPvjvMODSt"
   },
   "source": [
    "# 4. split() : Split String into a List of Substrings"
   ]
  },
  {
   "cell_type": "code",
   "execution_count": 5,
   "metadata": {
    "colab": {
     "base_uri": "https://localhost:8080/"
    },
    "id": "GG2wyeR_ORRZ",
    "outputId": "957d0116-ee70-4ae1-cca4-a7f9d82d7fa9"
   },
   "outputs": [
    {
     "name": "stdout",
     "output_type": "stream",
     "text": [
      "My Name Is Yang Sungju\n",
      "['My', 'Name', 'Is', 'Yang', 'Sungju']\n",
      "['Hello', ' Sungju']\n"
     ]
    }
   ],
   "source": [
    "string_1 = \"my name is yang sungju\"\n",
    "string_title = string_1.title() # title함수로 맨 첫글자 대문자로 변환하기\n",
    "\n",
    "string_2 = \"Hello/ Sungju\"\n",
    "\n",
    "print(string_title)\n",
    "print(string_title.split( ))\n",
    "print(string_2.split('/'))"
   ]
  },
  {
   "cell_type": "markdown",
   "metadata": {
    "id": "RbYzFhvYO3bz"
   },
   "source": [
    "# 5. join() : Combining a List of Strings"
   ]
  },
  {
   "cell_type": "code",
   "execution_count": 6,
   "metadata": {
    "colab": {
     "base_uri": "https://localhost:8080/"
    },
    "id": "ZnKtJ1vkQQ1w",
    "outputId": "9e9d8941-4fdb-4714-83ce-fba22c3c87bc"
   },
   "outputs": [
    {
     "name": "stdout",
     "output_type": "stream",
     "text": [
      "My,name,is,Sungju\n",
      "My name is Sungju\n"
     ]
    }
   ],
   "source": [
    "list_of_strings = [ 'My', 'name', 'is', 'Sungju']\n",
    "\n",
    "# using join with the comma seperator\n",
    "list1 = ','.join(list_of_strings)\n",
    "\n",
    "# using join with space\n",
    "list2 = ' '.join(list_of_strings)\n",
    "\n",
    "print(list1)\n",
    "print(list2)"
   ]
  },
  {
   "cell_type": "markdown",
   "metadata": {
    "id": "IKkoOXeWRLPP"
   },
   "source": [
    "# 6. counter : Frequency of Elements in a list\n",
    "\n",
    "* Counter class : 개별 요소의 빈도를 체크해주는 라이브러리\n",
    "*- count() : 해당 요소가 몇개 있나\n",
    "*- most_common() : 가장 빈도 높은 거와 그 횟수 체크"
   ]
  },
  {
   "cell_type": "code",
   "execution_count": 7,
   "metadata": {
    "colab": {
     "base_uri": "https://localhost:8080/"
    },
    "id": "qbXa4DXNTVe4",
    "outputId": "e0faff63-b6df-462f-e219-7891428512bc"
   },
   "outputs": [
    {
     "name": "stdout",
     "output_type": "stream",
     "text": [
      "Counter({'d': 5, 'b': 3, 'a': 2, 'c': 1})\n",
      "3\n",
      "[('d', 5)]\n",
      "[('d', 5), ('b', 3)]\n"
     ]
    }
   ],
   "source": [
    "from collections import Counter\n",
    "\n",
    "my_list = ['a','a','b','b','b','c','d','d','d','d','d']\n",
    "count = Counter(my_list) # definint a counter object\n",
    "\n",
    "print(count) # of all elements\n",
    "\n",
    "print(count['b']) # of individual element\n",
    "\n",
    "print(count.most_common(1)) # most frequent element\n",
    "\n",
    "print(count.most_common(2)) # Top 2 "
   ]
  },
  {
   "cell_type": "markdown",
   "metadata": {
    "id": "rDYK5wrfUjK7"
   },
   "source": [
    "# 7. Using the try-except-else Block\n",
    "\n",
    "* Error handling in Python can be done easily using the try/except block. \n",
    "* Adding an else statement to this block might be useful. \n",
    "* It’s run when there is no exception raised in the try block.\n",
    "* If you need to run something irrespective of exception, use finally."
   ]
  },
  {
   "cell_type": "code",
   "execution_count": 8,
   "metadata": {
    "colab": {
     "base_uri": "https://localhost:8080/"
    },
    "id": "6dZCHTqcUIHd",
    "outputId": "f96834bb-5968-4f34-9648-2e663df46a85"
   },
   "outputs": [
    {
     "name": "stdout",
     "output_type": "stream",
     "text": [
      "division by zero\n",
      "Run this always\n"
     ]
    }
   ],
   "source": [
    "a, b = 1,0\n",
    "\n",
    "try:\n",
    "    print(a/b)\n",
    "    # exception raised when b is 0\n",
    "    # run something irrespective of exception, use finally\n",
    "    \n",
    "except ZeroDivisionError:\n",
    "    print(\"division by zero\")\n",
    "    \n",
    "else:\n",
    "    print(\"no exceptions raised\")\n",
    "    \n",
    "finally:\n",
    "    print(\"Run this always\")"
   ]
  },
  {
   "cell_type": "markdown",
   "metadata": {
    "id": "wy5AEKKkVRF1"
   },
   "source": [
    "# 8. enumerate() : Using Enumerate to get Index/Values Pairs\n",
    "\n",
    "* list 뿐만 아니라 dict에서도 응용해서 쓸수 있다 -> index와 키를 뽑고 키로 value 뽑고"
   ]
  },
  {
   "cell_type": "code",
   "execution_count": 9,
   "metadata": {
    "colab": {
     "base_uri": "https://localhost:8080/"
    },
    "id": "jWA6mWIzZO4k",
    "outputId": "2dd166e9-38b6-4569-97d0-925795c72fdd"
   },
   "outputs": [
    {
     "name": "stdout",
     "output_type": "stream",
     "text": [
      "0 : a\n",
      "1 : b\n",
      "2 : c\n",
      "3 : d\n",
      "4 : e\n"
     ]
    }
   ],
   "source": [
    "my_list = ['a', 'b', 'c', 'd', 'e']\n",
    "\n",
    "for idx, value in enumerate(my_list) :\n",
    "    print( '{0} : {1}'.format(idx, value) )"
   ]
  },
  {
   "cell_type": "code",
   "execution_count": 10,
   "metadata": {
    "colab": {
     "base_uri": "https://localhost:8080/"
    },
    "id": "31ijVBcsZog6",
    "outputId": "db39526e-6628-418b-c919-03ae4f07d2b8"
   },
   "outputs": [
    {
     "name": "stdout",
     "output_type": "stream",
     "text": [
      "0 : a - 성주\n",
      "1 : b - 혜선\n",
      "2 : c - 정아\n",
      "3 : d - 정우\n"
     ]
    }
   ],
   "source": [
    "my_dict = { 'a' : '성주', 'b' : '혜선', 'c' : '정아', 'd' : '정우' }\n",
    "\n",
    "for idx, key in enumerate(my_dict) :\n",
    "    print( idx, ':', key,'-', my_dict[key] )"
   ]
  },
  {
   "cell_type": "markdown",
   "metadata": {
    "id": "F5oCM4uqbw7V"
   },
   "source": [
    "# 9. Flattening a List of lists : deep list를 flatten"
   ]
  },
  {
   "cell_type": "code",
   "execution_count": 11,
   "metadata": {
    "id": "EdQtNqV1dgut"
   },
   "outputs": [
    {
     "name": "stdout",
     "output_type": "stream",
     "text": [
      "Note: you may need to restart the kernel to use updated packages.\n"
     ]
    }
   ],
   "source": [
    "%pip -q install iteration_utilities"
   ]
  },
  {
   "cell_type": "code",
   "execution_count": 12,
   "metadata": {
    "colab": {
     "base_uri": "https://localhost:8080/"
    },
    "id": "hPhDJNiwaevF",
    "outputId": "cfb4605b-866a-42fc-b437-8641adce3b90"
   },
   "outputs": [
    {
     "name": "stdout",
     "output_type": "stream",
     "text": [
      "[1, 2, 3, 4, 5, 6]\n",
      "[1, 2, 3, 4, 5, 6, 7, 8, 9, [10]]\n",
      "[1, 2, 3, 4, 5, 6, 7, 8, 9, 10]\n"
     ]
    }
   ],
   "source": [
    "# if you only have one depth nested_list, use this\n",
    "\n",
    "def flatten(data):\n",
    "    return [item for sublist in data for item in sublist]\n",
    "\n",
    "data = [ [1,2,3], [4,5], [6] ]\n",
    "print(flatten(data))\n",
    "\n",
    "# but if you don't know how deep the list is nested\n",
    "\n",
    "from iteration_utilities import deepflatten\n",
    "\n",
    "list_data = [ [1,2,3], [4,[5],[6,7]], [8,[9,[10]] ] ]\n",
    "\n",
    "print( list( deepflatten(list_data, depth=2) ) )\n",
    "print( list( deepflatten(list_data, depth=3) ) )\n"
   ]
  },
  {
   "cell_type": "markdown",
   "metadata": {
    "id": "trBt_YkQeNq0"
   },
   "source": [
    "# 10. Check for Uniqueness"
   ]
  },
  {
   "cell_type": "code",
   "execution_count": 13,
   "metadata": {
    "colab": {
     "base_uri": "https://localhost:8080/"
    },
    "id": "-2hm-QbGdcbQ",
    "outputId": "ca4fcc82-9126-4af6-c219-2b2e9b8c6873"
   },
   "outputs": [
    {
     "name": "stdout",
     "output_type": "stream",
     "text": [
      "All elements are unique\n",
      "List has duplicates\n"
     ]
    }
   ],
   "source": [
    "def unique(data):\n",
    "    \n",
    "    if len(data)==len(set(data)):\n",
    "        print(\"All elements are unique\")\n",
    "        \n",
    "    else:\n",
    "        print(\"List has duplicates\")\n",
    "\n",
    "unique([1,2,3,4])\n",
    "# All elements are unique\n",
    "\n",
    "unique([1,1,2,3])\n",
    "# List has duplicates"
   ]
  },
  {
   "cell_type": "code",
   "execution_count": 14,
   "metadata": {
    "colab": {
     "base_uri": "https://localhost:8080/"
    },
    "id": "Vr5e9TPuecVG",
    "outputId": "76c2fd6f-e4ae-47b0-dc90-4c7d9b6063db"
   },
   "outputs": [
    {
     "name": "stdout",
     "output_type": "stream",
     "text": [
      "All elements are unique\n"
     ]
    }
   ],
   "source": [
    "unique(my_list) # a, b, c, d, e"
   ]
  },
  {
   "cell_type": "code",
   "execution_count": 15,
   "metadata": {
    "colab": {
     "base_uri": "https://localhost:8080/"
    },
    "id": "l4OpzgygegPS",
    "outputId": "324c3849-dc35-4e29-9942-1effdb4b309f"
   },
   "outputs": [
    {
     "data": {
      "text/plain": [
       "['a', 'b', 'c', 'd', 'e']"
      ]
     },
     "execution_count": 15,
     "metadata": {},
     "output_type": "execute_result"
    }
   ],
   "source": [
    "my_list"
   ]
  }
 ],
 "metadata": {
  "colab": {
   "name": "(210215)전처리 관련 code snipet.ipynb",
   "provenance": []
  },
  "kernelspec": {
   "display_name": "Python 3",
   "language": "python",
   "name": "python3"
  },
  "language_info": {
   "codemirror_mode": {
    "name": "ipython",
    "version": 3
   },
   "file_extension": ".py",
   "mimetype": "text/x-python",
   "name": "python",
   "nbconvert_exporter": "python",
   "pygments_lexer": "ipython3",
   "version": "3.8.5"
  }
 },
 "nbformat": 4,
 "nbformat_minor": 1
}
